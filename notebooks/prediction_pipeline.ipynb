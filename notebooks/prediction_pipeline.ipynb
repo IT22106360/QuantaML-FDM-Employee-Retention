{
 "cells": [
  {
   "cell_type": "code",
   "execution_count": 22,
   "metadata": {},
   "outputs": [],
   "source": [
    "import pickle \n",
    "import numpy as np \n",
    "import pandas as pd"
   ]
  },
  {
   "cell_type": "code",
   "execution_count": 23,
   "metadata": {},
   "outputs": [],
   "source": [
    "import pickle\n",
    "\n",
    "# Load the model from the file\n",
    "with open('../static/model/selected_model.pkl', 'rb') as file:\n",
    "    model = pickle.load(file)"
   ]
  },
  {
   "cell_type": "code",
   "execution_count": 24,
   "metadata": {},
   "outputs": [],
   "source": [
    "city_development_index = 0.624\n",
    "relevent_experience = 'No'\n",
    "education_level = 'Graduate'\n",
    "experience = 5\n",
    "last_new_job_gap = 0"
   ]
  },
  {
   "cell_type": "code",
   "execution_count": 25,
   "metadata": {},
   "outputs": [],
   "source": [
    "#encoding\n",
    "def rel_experience(x):\n",
    "    if x=='Yes': return 1\n",
    "    if x=='No':   return 0\n",
    "\n",
    "def edu_level(x):\n",
    "    if x=='Graduate'       :   return 0\n",
    "    if x=='Masters'        :   return 1\n",
    "    if x=='High School'    :   return 2\n",
    "    if x=='Phd'            :   return 3\n",
    "    if x=='Primary School' :   return 4\n"
   ]
  },
  {
   "cell_type": "code",
   "execution_count": 26,
   "metadata": {},
   "outputs": [],
   "source": [
    "rel_ex = rel_experience(relevent_experience)\n",
    "edu_l = edu_level(education_level)"
   ]
  },
  {
   "cell_type": "code",
   "execution_count": 27,
   "metadata": {},
   "outputs": [],
   "source": [
    "input_features = np.array([[\n",
    "            city_development_index,\n",
    "            rel_ex,\n",
    "            edu_l,\n",
    "            experience,\n",
    "            last_new_job_gap\n",
    "        ]])"
   ]
  },
  {
   "cell_type": "code",
   "execution_count": 28,
   "metadata": {},
   "outputs": [],
   "source": [
    "prediction = model.predict(input_features)\n"
   ]
  },
  {
   "cell_type": "code",
   "execution_count": 30,
   "metadata": {},
   "outputs": [
    {
     "name": "stderr",
     "output_type": "stream",
     "text": [
      "C:\\Users\\rashm\\AppData\\Local\\Temp\\ipykernel_26720\\3621954015.py:1: DeprecationWarning: Conversion of an array with ndim > 0 to a scalar is deprecated, and will error in future. Ensure you extract a single element from your array before performing this operation. (Deprecated NumPy 1.25.)\n",
      "  int(prediction)\n"
     ]
    },
    {
     "data": {
      "text/plain": [
       "1"
      ]
     },
     "execution_count": 30,
     "metadata": {},
     "output_type": "execute_result"
    }
   ],
   "source": [
    "int(prediction)"
   ]
  }
 ],
 "metadata": {
  "kernelspec": {
   "display_name": "env",
   "language": "python",
   "name": "python3"
  },
  "language_info": {
   "codemirror_mode": {
    "name": "ipython",
    "version": 3
   },
   "file_extension": ".py",
   "mimetype": "text/x-python",
   "name": "python",
   "nbconvert_exporter": "python",
   "pygments_lexer": "ipython3",
   "version": "3.12.4"
  }
 },
 "nbformat": 4,
 "nbformat_minor": 2
}
